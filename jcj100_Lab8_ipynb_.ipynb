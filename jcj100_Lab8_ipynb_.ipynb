{
  "nbformat": 4,
  "nbformat_minor": 0,
  "metadata": {
    "colab": {
      "provenance": []
    },
    "kernelspec": {
      "name": "python3",
      "display_name": "Python 3"
    },
    "language_info": {
      "name": "python"
    }
  },
  "cells": [
    {
      "cell_type": "code",
      "execution_count": 8,
      "metadata": {
        "colab": {
          "base_uri": "https://localhost:8080/"
        },
        "id": "GHLYhhBdM_3F",
        "outputId": "63c44d1a-74d1-42b5-b1a9-3b9af55b6bf5"
      },
      "outputs": [
        {
          "output_type": "stream",
          "name": "stdout",
          "text": [
            "Loading diamonds dataset...\n",
            "Dataset loaded successfully!\n"
          ]
        }
      ],
      "source": [
        "import polars as pl\n",
        "\n",
        "# Load dataset\n",
        "print(\"Loading diamonds dataset...\")\n",
        "df = pl.read_csv(\"https://raw.githubusercontent.com/pycaret/pycaret/master/datasets/diamond.csv\")\n",
        "print(\"Dataset loaded successfully!\")"
      ]
    },
    {
      "cell_type": "code",
      "source": [
        "# Section 1:\n",
        "# Question 1: How extensive is our inventory?\n",
        "print(\"Q1:\", df.shape)"
      ],
      "metadata": {
        "colab": {
          "base_uri": "https://localhost:8080/"
        },
        "id": "wkYPnANfOmQ8",
        "outputId": "97ca604f-ac06-4f12-83f8-205e7b2f7a1f"
      },
      "execution_count": 9,
      "outputs": [
        {
          "output_type": "stream",
          "name": "stdout",
          "text": [
            "Q1: (6000, 8)\n"
          ]
        }
      ]
    },
    {
      "cell_type": "code",
      "source": [
        "# Question 2: What information do we track?\n",
        "print(\"Q2:\", df.columns)"
      ],
      "metadata": {
        "colab": {
          "base_uri": "https://localhost:8080/"
        },
        "id": "Xhhu0zSFOwbO",
        "outputId": "872f78ff-cf6c-4c4c-f80c-7885926799be"
      },
      "execution_count": 10,
      "outputs": [
        {
          "output_type": "stream",
          "name": "stdout",
          "text": [
            "Q2: ['Carat Weight', 'Cut', 'Color', 'Clarity', 'Polish', 'Symmetry', 'Report', 'Price']\n"
          ]
        }
      ]
    },
    {
      "cell_type": "code",
      "source": [
        "# Question 3: What does one row represent?\n",
        "print(\"Q3: Each row represents a single diamond in our inventory with its characteristics and price.\")\n"
      ],
      "metadata": {
        "colab": {
          "base_uri": "https://localhost:8080/"
        },
        "id": "acKQKlpOO06r",
        "outputId": "bee84b09-9eb6-439e-b597-7ff90f4c541e"
      },
      "execution_count": 11,
      "outputs": [
        {
          "output_type": "stream",
          "name": "stdout",
          "text": [
            "Q3: Each row represents a single diamond in our inventory with its characteristics and price.\n"
          ]
        }
      ]
    },
    {
      "cell_type": "code",
      "source": [
        "# Section 2:\n",
        "# Question 4: Total carats in inventory\n",
        "total_carats = df[\"Carat Weight\"].sum()\n",
        "print(\"Q4: Total carats =\", total_carats)"
      ],
      "metadata": {
        "colab": {
          "base_uri": "https://localhost:8080/"
        },
        "id": "h_6AQIGLO6XM",
        "outputId": "84d72f4e-41c1-4478-afcb-132d81ee130a"
      },
      "execution_count": 12,
      "outputs": [
        {
          "output_type": "stream",
          "name": "stdout",
          "text": [
            "Q4: Total carats = 8007.120000000001\n"
          ]
        }
      ]
    },
    {
      "cell_type": "code",
      "source": [
        "# Question 5: Variety of cuts\n",
        "cuts = df[\"Cut\"].unique()\n",
        "print(\"Q5: Unique cuts =\", cuts)"
      ],
      "metadata": {
        "colab": {
          "base_uri": "https://localhost:8080/"
        },
        "id": "6H_oO3mxPOQM",
        "outputId": "2761b1e9-32b0-4dd5-c59d-bcb635f5880c"
      },
      "execution_count": 13,
      "outputs": [
        {
          "output_type": "stream",
          "name": "stdout",
          "text": [
            "Q5: Unique cuts = shape: (5,)\n",
            "Series: 'Cut' [str]\n",
            "[\n",
            "\t\"Very Good\"\n",
            "\t\"Ideal\"\n",
            "\t\"Signature-Ideal\"\n",
            "\t\"Fair\"\n",
            "\t\"Good\"\n",
            "]\n"
          ]
        }
      ]
    },
    {
      "cell_type": "code",
      "source": [
        "# Question 6: Most and least valuable diamond\n",
        "max_price = df[\"Price\"].max()\n",
        "min_price = df[\"Price\"].min()\n",
        "print(\"Q6: Most valuable diamond price =\", max_price)\n",
        "print(\"Q6: Least valuable diamond price =\", min_price)"
      ],
      "metadata": {
        "colab": {
          "base_uri": "https://localhost:8080/"
        },
        "id": "5TWd7XxhPW0o",
        "outputId": "9b03d170-c3b4-4b66-f870-ab5b8b4e5b26"
      },
      "execution_count": 14,
      "outputs": [
        {
          "output_type": "stream",
          "name": "stdout",
          "text": [
            "Q6: Most valuable diamond price = 101561\n",
            "Q6: Least valuable diamond price = 2184\n"
          ]
        }
      ]
    },
    {
      "cell_type": "code",
      "source": [
        "# Question 7: Typical prices by color\n",
        "price_by_color = df.group_by(\"Color\").agg(pl.col(\"Price\").mean().alias(\"avg_price\"))\n",
        "print(\"Q7:\\n\", price_by_color)\n",
        "print(\"Reflection: Now each row represents a color grade with its average price.\")"
      ],
      "metadata": {
        "colab": {
          "base_uri": "https://localhost:8080/"
        },
        "id": "eH4of9yAPZuo",
        "outputId": "e7a5fac2-3fad-4136-8de6-8f2348b8b069"
      },
      "execution_count": 15,
      "outputs": [
        {
          "output_type": "stream",
          "name": "stdout",
          "text": [
            "Q7:\n",
            " shape: (6, 2)\n",
            "┌───────┬──────────────┐\n",
            "│ Color ┆ avg_price    │\n",
            "│ ---   ┆ ---          │\n",
            "│ str   ┆ f64          │\n",
            "╞═══════╪══════════════╡\n",
            "│ I     ┆ 8989.636364  │\n",
            "│ D     ┆ 15255.783661 │\n",
            "│ G     ┆ 12520.050633 │\n",
            "│ E     ┆ 11539.190231 │\n",
            "│ H     ┆ 10487.347544 │\n",
            "│ F     ┆ 12712.241856 │\n",
            "└───────┴──────────────┘\n",
            "Reflection: Now each row represents a color grade with its average price.\n"
          ]
        }
      ]
    },
    {
      "cell_type": "code",
      "source": [
        "# Section 3:\n",
        "# Question 8: Clarity breakdown\n",
        "clarity_info = df.group_by(\"Clarity\").agg([\n",
        "    pl.len().alias(\"count\"),\n",
        "    pl.col(\"Price\").mean().alias(\"avg_price\"),\n",
        "    pl.col(\"Carat Weight\").sum().alias(\"total_carats\")\n",
        "])\n",
        "print(\"Q8:\\n\", clarity_info)"
      ],
      "metadata": {
        "colab": {
          "base_uri": "https://localhost:8080/"
        },
        "id": "aeY7cJDtP-3v",
        "outputId": "1346f9c3-bb7e-4f96-b6b1-c384c49fd2b4"
      },
      "execution_count": 20,
      "outputs": [
        {
          "output_type": "stream",
          "name": "stdout",
          "text": [
            "Q8:\n",
            " shape: (7, 4)\n",
            "┌─────────┬───────┬──────────────┬──────────────┐\n",
            "│ Clarity ┆ count ┆ avg_price    ┆ total_carats │\n",
            "│ ---     ┆ ---   ┆ ---          ┆ ---          │\n",
            "│ str     ┆ u32   ┆ f64          ┆ f64          │\n",
            "╞═════════╪═══════╪══════════════╪══════════════╡\n",
            "│ VVS2    ┆ 666   ┆ 14142.177177 ┆ 876.58       │\n",
            "│ VS2     ┆ 1575  ┆ 11809.053333 ┆ 2170.81      │\n",
            "│ IF      ┆ 219   ┆ 22105.844749 ┆ 316.0        │\n",
            "│ VS1     ┆ 1192  ┆ 13694.113255 ┆ 1682.74      │\n",
            "│ VVS1    ┆ 285   ┆ 16845.680702 ┆ 389.43       │\n",
            "│ FL      ┆ 4     ┆ 63776.0      ┆ 7.87         │\n",
            "│ SI1     ┆ 2059  ┆ 8018.864012  ┆ 2563.69      │\n",
            "└─────────┴───────┴──────────────┴──────────────┘\n"
          ]
        }
      ]
    },
    {
      "cell_type": "code",
      "source": [
        "# Question 9: Pricing structure by cut and color\n",
        "cut_color_price = df.group_by([\"Cut\", \"Color\"]).agg(pl.col(\"Price\").mean().alias(\"avg_price\"))\n",
        "print(\"Q9:\\n\", cut_color_price)\n",
        "\n",
        "print(\"Reflection: Now each row is a specific cut-color combination with its average price.\")"
      ],
      "metadata": {
        "colab": {
          "base_uri": "https://localhost:8080/"
        },
        "id": "LmWhQHM-QbZk",
        "outputId": "f6894dc7-9b91-4eeb-a57d-1ce8efd50aaa"
      },
      "execution_count": 17,
      "outputs": [
        {
          "output_type": "stream",
          "name": "stdout",
          "text": [
            "Q9:\n",
            " shape: (30, 3)\n",
            "┌─────────────────┬───────┬──────────────┐\n",
            "│ Cut             ┆ Color ┆ avg_price    │\n",
            "│ ---             ┆ ---   ┆ ---          │\n",
            "│ str             ┆ str   ┆ f64          │\n",
            "╞═════════════════╪═══════╪══════════════╡\n",
            "│ Signature-Ideal ┆ D     ┆ 19823.1      │\n",
            "│ Very Good       ┆ D     ┆ 13218.826415 │\n",
            "│ Fair            ┆ H     ┆ 5908.5       │\n",
            "│ Ideal           ┆ H     ┆ 11527.700873 │\n",
            "│ Very Good       ┆ I     ┆ 8930.031332  │\n",
            "│ …               ┆ …     ┆ …            │\n",
            "│ Good            ┆ E     ┆ 8969.545455  │\n",
            "│ Good            ┆ H     ┆ 9535.132812  │\n",
            "│ Ideal           ┆ F     ┆ 14729.426997 │\n",
            "│ Ideal           ┆ I     ┆ 9459.588378  │\n",
            "│ Signature-Ideal ┆ H     ┆ 9112.688889  │\n",
            "└─────────────────┴───────┴──────────────┘\n",
            "Reflection: Now each row is a specific cut-color combination with its average price.\n"
          ]
        }
      ]
    },
    {
      "cell_type": "code",
      "source": [
        "# Question 10: Top 5 most valuable color-cut combinations\n",
        "top_value_segments = df.group_by([\"Color\", \"Cut\"]).agg([\n",
        "    pl.sum(\"Price\").alias(\"total_value\"),\n",
        "    pl.len().alias(\"count_diamonds\")\n",
        "]).sort(\"total_value\", descending=True).head(5)\n",
        "print(\"Q10:\\n\", top_value_segments)"
      ],
      "metadata": {
        "colab": {
          "base_uri": "https://localhost:8080/"
        },
        "id": "puEVW-6XQk_0",
        "outputId": "9e9fb13c-63f7-4888-c26f-8b181f15f8b4"
      },
      "execution_count": 19,
      "outputs": [
        {
          "output_type": "stream",
          "name": "stdout",
          "text": [
            "Q10:\n",
            " shape: (5, 4)\n",
            "┌───────┬───────────┬─────────────┬────────────────┐\n",
            "│ Color ┆ Cut       ┆ total_value ┆ count_diamonds │\n",
            "│ ---   ┆ ---       ┆ ---         ┆ ---            │\n",
            "│ str   ┆ str       ┆ i64         ┆ u32            │\n",
            "╞═══════╪═══════════╪═════════════╪════════════════╡\n",
            "│ G     ┆ Ideal     ┆ 9363514     ┆ 690            │\n",
            "│ G     ┆ Very Good ┆ 7140620     ┆ 578            │\n",
            "│ F     ┆ Very Good ┆ 5648327     ┆ 455            │\n",
            "│ F     ┆ Ideal     ┆ 5346782     ┆ 363            │\n",
            "│ H     ┆ Ideal     ┆ 5279687     ┆ 458            │\n",
            "└───────┴───────────┴─────────────┴────────────────┘\n"
          ]
        }
      ]
    }
  ]
}